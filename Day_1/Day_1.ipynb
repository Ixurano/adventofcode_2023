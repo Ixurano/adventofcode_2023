{
 "cells": [
  {
   "cell_type": "markdown",
   "metadata": {},
   "source": [
    "## part 1 find first and last numeric number"
   ]
  },
  {
   "cell_type": "code",
   "execution_count": 2,
   "metadata": {},
   "outputs": [
    {
     "name": "stdout",
     "output_type": "stream",
     "text": [
      "54916\n"
     ]
    }
   ],
   "source": [
    "import re\n",
    "def extract_first_and_last_numbers(input_string):\n",
    "    digits_as_strings = re.findall(r'\\d', input_string)\n",
    "    if not digits_as_strings:\n",
    "        return None\n",
    "\n",
    "    # Convert the list of strings to a list of integers\n",
    "    digits_as_integers = [int(digit) for digit in digits_as_strings]\n",
    "\n",
    "    if len(digits_as_integers) == 1:\n",
    "        # if there is only one number do it twice\n",
    "        result = [digits_as_integers[0], digits_as_integers[0]]\n",
    "    else:\n",
    "        # Otherwise take the first and last number\n",
    "        result = [digits_as_integers[0], digits_as_integers[-1]]\n",
    "\n",
    "    return result\n",
    "file_path = 'input.txt'\n",
    "\n",
    "# Open the file and read lines\n",
    "with open(file_path, 'r') as file:\n",
    "    lines = file.read().splitlines()\n",
    "first_numeric_value = []\n",
    "last_numeric_value = []\n",
    "combined_value = []\n",
    "for line in lines:\n",
    "    list_result = extract_first_and_last_numbers(line)\n",
    "    first_numeric_value.append(list_result[0])\n",
    "    last_numeric_value.append(list_result[1])\n",
    "    strResult = str(list_result[0]) + str(list_result[1])\n",
    "    combined_value.append(int(strResult))\n",
    "    #print(result)\n",
    "print(sum(combined_value))"
   ]
  },
  {
   "cell_type": "markdown",
   "metadata": {},
   "source": [
    "## Part 2 find first and last number from numeric and spelled out numbers\n"
   ]
  },
  {
   "cell_type": "code",
   "execution_count": 5,
   "metadata": {},
   "outputs": [
    {
     "name": "stdout",
     "output_type": "stream",
     "text": [
      "54728\n"
     ]
    }
   ],
   "source": [
    "def replace_textual_numbers(input_string):\n",
    "    # use a dict to replace text numbers with numeric numbers\n",
    "    number_mapping = {'one': 'o1e', 'two': 't2o', 'three': 'th3ee', 'four': 'fo4r', 'five': 'f5ve', 'six': 's6x', 'seven': 's7ven', 'eight': 'eigh8t', 'nine': 'n9ne'}\n",
    "\n",
    "    # Convert input string to lowercase for case-insensitive replacement\n",
    "    input_string_lower = input_string.lower()\n",
    "\n",
    "    # Replace each key with its value\n",
    "    for key, value in number_mapping.items():\n",
    "        input_string_lower = input_string_lower.replace(key, value)\n",
    "    return input_string_lower\n",
    "def extract_first_and_last_numbers_spelled_numbers(input_string):\n",
    "    input_string = replace_textual_numbers(input_string)\n",
    "\n",
    "    # Use regular expression to extract individual digits\n",
    "    digits_as_strings = re.findall(r'\\d', input_string)\n",
    "    if not digits_as_strings:\n",
    "        return None\n",
    "\n",
    "    # Convert the list of strings to a list of integers\n",
    "    digits_as_integers = [int(digit) for digit in digits_as_strings]\n",
    "\n",
    "    if len(digits_as_integers) == 1:\n",
    "        # if there is only one number, do it twice\n",
    "        result = [digits_as_integers[0], digits_as_integers[0]]\n",
    "    else:\n",
    "        # Otherwise, take the first and last number\n",
    "        result = [digits_as_integers[0], digits_as_integers[-1]]\n",
    "\n",
    "    return result\n",
    "    \n",
    "file_path = 'input.txt'\n",
    "\n",
    "# Open the file and read lines\n",
    "with open(file_path, 'r') as file:\n",
    "    lines = file.read().splitlines()\n",
    "\n",
    "combined_value = []\n",
    "for line in lines:\n",
    "    list_result = extract_first_and_last_numbers_spelled_numbers(line)\n",
    "    strResult = str(list_result[0]) + str(list_result[1])\n",
    "    combined_value.append(int(strResult))\n",
    "print(sum(combined_value))"
   ]
  }
 ],
 "metadata": {
  "kernelspec": {
   "display_name": "base",
   "language": "python",
   "name": "python3"
  },
  "language_info": {
   "codemirror_mode": {
    "name": "ipython",
    "version": 3
   },
   "file_extension": ".py",
   "mimetype": "text/x-python",
   "name": "python",
   "nbconvert_exporter": "python",
   "pygments_lexer": "ipython3",
   "version": "3.8.8"
  }
 },
 "nbformat": 4,
 "nbformat_minor": 2
}
